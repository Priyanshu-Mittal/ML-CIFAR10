{
  "nbformat": 4,
  "nbformat_minor": 0,
  "metadata": {
    "colab": {
      "name": "Priyanshu_2nd_CNN.ipynb",
      "provenance": [],
      "collapsed_sections": []
    },
    "kernelspec": {
      "name": "python3",
      "display_name": "Python 3"
    }
  },
  "cells": [
    {
      "cell_type": "markdown",
      "metadata": {
        "id": "NWTymEYossLy",
        "colab_type": "text"
      },
      "source": [
        "Convolutional Neural Network (CNN) Model for CIFAR-10 dataset prepared by Priyanshu"
      ]
    },
    {
      "cell_type": "code",
      "metadata": {
        "id": "us383unOsGir",
        "colab_type": "code",
        "colab": {}
      },
      "source": [
        "#importing required libraries..\n",
        "import tensorflow as tf\n",
        "import numpy as np\n",
        "import matplotlib.pyplot as plt"
      ],
      "execution_count": 0,
      "outputs": []
    },
    {
      "cell_type": "code",
      "metadata": {
        "id": "izrtO6y8sp6I",
        "colab_type": "code",
        "colab": {}
      },
      "source": [
        "#checking tensorflow version...\n",
        "print(tf.__version__)"
      ],
      "execution_count": 0,
      "outputs": []
    },
    {
      "cell_type": "code",
      "metadata": {
        "id": "-eqWtsSWtANI",
        "colab_type": "code",
        "colab": {}
      },
      "source": [
        "#loading the dataset...\n",
        "cifar=tf.keras.datasets.cifar10\n",
        "(training_images,training_labels),(testing_images,testing_labels)=cifar.load_data()"
      ],
      "execution_count": 0,
      "outputs": []
    },
    {
      "cell_type": "code",
      "metadata": {
        "id": "fX_b7MlmtEH5",
        "colab_type": "code",
        "colab": {}
      },
      "source": [
        "#assigning names of labels from 0 to 9 to array 'names'...\n",
        "names=['airplane','automobile','bird','cat','deer','dog','frog','horse','ship','truck']\n"
      ],
      "execution_count": 0,
      "outputs": []
    },
    {
      "cell_type": "code",
      "metadata": {
        "id": "5kICb9-_tIXE",
        "colab_type": "code",
        "colab": {
          "base_uri": "https://localhost:8080/",
          "height": 34
        },
        "outputId": "f3e3c6dd-125e-4abc-8bed-fc0463a76f71"
      },
      "source": [
        "#checking the shape of images ...\n",
        "training_images.shape"
      ],
      "execution_count": 13,
      "outputs": [
        {
          "output_type": "execute_result",
          "data": {
            "text/plain": [
              "(50000, 32, 32, 3)"
            ]
          },
          "metadata": {
            "tags": []
          },
          "execution_count": 13
        }
      ]
    },
    {
      "cell_type": "code",
      "metadata": {
        "id": "4b3Ig3xQtKg4",
        "colab_type": "code",
        "colab": {
          "base_uri": "https://localhost:8080/",
          "height": 34
        },
        "outputId": "f2d86caa-76be-488f-a837-b89861fe6f73"
      },
      "source": [
        "#checking shape of labels...\n",
        "training_labels.shape\n"
      ],
      "execution_count": 14,
      "outputs": [
        {
          "output_type": "execute_result",
          "data": {
            "text/plain": [
              "(50000, 1)"
            ]
          },
          "metadata": {
            "tags": []
          },
          "execution_count": 14
        }
      ]
    },
    {
      "cell_type": "code",
      "metadata": {
        "id": "DmHgLwJctQdz",
        "colab_type": "code",
        "colab": {}
      },
      "source": [
        "#reshaping training and testing images to a single 4D list..\n",
        "training_images=training_images.reshape(50000,32,32,3)\n",
        "testing_images=testing_images.reshape(10000,32,32,3)"
      ],
      "execution_count": 0,
      "outputs": []
    },
    {
      "cell_type": "code",
      "metadata": {
        "id": "zMkJr_NFtNA-",
        "colab_type": "code",
        "colab": {}
      },
      "source": [
        "#dividing image pixel by 255 so that pixel comes in range 0 to 1...\n",
        "training_images=training_images/255.0\n",
        "testing_images=testing_images/255.0"
      ],
      "execution_count": 0,
      "outputs": []
    },
    {
      "cell_type": "code",
      "metadata": {
        "id": "OKTeLbh5u2td",
        "colab_type": "code",
        "colab": {}
      },
      "source": [
        "#defining the model...\n",
        "model=tf.keras.models.Sequential([\n",
        "  tf.keras.layers.Conv2D(64, (3,3), activation='relu', input_shape=(32, 32, 3)),\n",
        "  tf.keras.layers.MaxPooling2D(2, 2),\n",
        "  tf.keras.layers.Conv2D(64, (3,3), activation='relu'),\n",
        "  tf.keras.layers.MaxPooling2D(2,2),\n",
        "  tf.keras.layers.Flatten(),\n",
        "  tf.keras.layers.Dense(128, activation='relu'),\n",
        "  tf.keras.layers.Dense(10, activation='softmax')\n",
        "])"
      ],
      "execution_count": 0,
      "outputs": []
    },
    {
      "cell_type": "code",
      "metadata": {
        "id": "rf3NF3mQvFq1",
        "colab_type": "code",
        "colab": {}
      },
      "source": [
        "#compiling the model...\n",
        "model.compile(optimizer='adam', loss='sparse_categorical_crossentropy', metrics=['accuracy'])"
      ],
      "execution_count": 0,
      "outputs": []
    },
    {
      "cell_type": "code",
      "metadata": {
        "id": "iMZFP41VvOTf",
        "colab_type": "code",
        "colab": {}
      },
      "source": [
        "#training data to the model...\n",
        "model.fit(training_images,training_labels,epochs=8)"
      ],
      "execution_count": 0,
      "outputs": []
    },
    {
      "cell_type": "code",
      "metadata": {
        "id": "SObolmaLvmY7",
        "colab_type": "code",
        "colab": {}
      },
      "source": [
        "#evaluating the model for testing data..\n",
        "test_loss,test_acc=model.evaluate(testing_images,testing_labels)"
      ],
      "execution_count": 0,
      "outputs": []
    },
    {
      "cell_type": "code",
      "metadata": {
        "id": "fsaj29MVvt-D",
        "colab_type": "code",
        "colab": {}
      },
      "source": [
        "print(\"Test accuracy:\",test_acc)\n"
      ],
      "execution_count": 0,
      "outputs": []
    },
    {
      "cell_type": "code",
      "metadata": {
        "id": "Dk02_S7zvwFb",
        "colab_type": "code",
        "colab": {}
      },
      "source": [
        "#predicting the data...\n",
        "predictions=model.predict(testing_images)"
      ],
      "execution_count": 0,
      "outputs": []
    },
    {
      "cell_type": "code",
      "metadata": {
        "id": "w6LcI8EVvxzS",
        "colab_type": "code",
        "colab": {}
      },
      "source": [
        "#printing data predicted for 2nd index..\n",
        "print(names[np.argmax(predictions[2])])\n"
      ],
      "execution_count": 0,
      "outputs": []
    },
    {
      "cell_type": "code",
      "metadata": {
        "id": "kxUCvLhNvzmd",
        "colab_type": "code",
        "colab": {}
      },
      "source": [
        "#actual data at index 2...\n",
        "print(names[testing_labels[2][0]])\n"
      ],
      "execution_count": 0,
      "outputs": []
    },
    {
      "cell_type": "code",
      "metadata": {
        "id": "_M6oEEWXv2G_",
        "colab_type": "code",
        "colab": {}
      },
      "source": [
        "#predicted data is same as actual data.."
      ],
      "execution_count": 0,
      "outputs": []
    },
    {
      "cell_type": "code",
      "metadata": {
        "id": "Ii-SgzPTv4aA",
        "colab_type": "code",
        "colab": {}
      },
      "source": [
        "#Completed ANN model on dataset CIFAR-10"
      ],
      "execution_count": 0,
      "outputs": []
    },
    {
      "cell_type": "code",
      "metadata": {
        "id": "6q_P2I2kv6Dw",
        "colab_type": "code",
        "colab": {}
      },
      "source": [
        ""
      ],
      "execution_count": 0,
      "outputs": []
    }
  ]
}