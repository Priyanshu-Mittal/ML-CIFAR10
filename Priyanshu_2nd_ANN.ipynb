{
  "nbformat": 4,
  "nbformat_minor": 0,
  "metadata": {
    "colab": {
      "name": "Priyanshu_2nd_ANN.ipynb",
      "provenance": [],
      "collapsed_sections": []
    },
    "kernelspec": {
      "name": "python3",
      "display_name": "Python 3"
    }
  },
  "cells": [
    {
      "cell_type": "markdown",
      "metadata": {
        "id": "K9royD3dQa8_",
        "colab_type": "text"
      },
      "source": [
        "Artificial Neural Network (ANN) Model for CIFAR-10 dataset prepared by Priyanshu"
      ]
    },
    {
      "cell_type": "code",
      "metadata": {
        "id": "O4rVnxDsyoXe",
        "colab_type": "code",
        "colab": {}
      },
      "source": [
        "#importing required libraries..\n",
        "import tensorflow as tf\n",
        "import numpy as np\n",
        "import matplotlib.pyplot as plt"
      ],
      "execution_count": 0,
      "outputs": []
    },
    {
      "cell_type": "code",
      "metadata": {
        "id": "_nvW-YCwzPuk",
        "colab_type": "code",
        "colab": {}
      },
      "source": [
        "#checking tensorflow version...\n",
        "print(tf.__version__)"
      ],
      "execution_count": 0,
      "outputs": []
    },
    {
      "cell_type": "code",
      "metadata": {
        "id": "DtQVoA2Wzjja",
        "colab_type": "code",
        "colab": {}
      },
      "source": [
        "#loading the dataset...\n",
        "cifar=tf.keras.datasets.cifar10\n",
        "(training_images,training_labels),(testing_images,testing_labels)=cifar.load_data()"
      ],
      "execution_count": 0,
      "outputs": []
    },
    {
      "cell_type": "code",
      "metadata": {
        "id": "B1T_7tNh1JRd",
        "colab_type": "code",
        "colab": {}
      },
      "source": [
        "#assigning names of labels from 0 to 9 to array 'names'...\n",
        "names=['airplane','automobile','bird','cat','deer','dog','frog','horse','ship','truck']\n"
      ],
      "execution_count": 0,
      "outputs": []
    },
    {
      "cell_type": "code",
      "metadata": {
        "id": "BAEfYw-72Qtw",
        "colab_type": "code",
        "colab": {}
      },
      "source": [
        "#checking the shape of images ...\n",
        "training_images.shape"
      ],
      "execution_count": 0,
      "outputs": []
    },
    {
      "cell_type": "code",
      "metadata": {
        "id": "SyZvyeQU25g6",
        "colab_type": "code",
        "colab": {}
      },
      "source": [
        "#checking shape of labels...\n",
        "training_labels.shape\n"
      ],
      "execution_count": 0,
      "outputs": []
    },
    {
      "cell_type": "code",
      "metadata": {
        "id": "1V2L5q7t3FS2",
        "colab_type": "code",
        "colab": {}
      },
      "source": [
        "#dividing image pixel by 255 so that pixel comes in range 0 to 1...\n",
        "training_images=training_images/255.0\n",
        "testing_images=testing_images/255.0"
      ],
      "execution_count": 0,
      "outputs": []
    },
    {
      "cell_type": "code",
      "metadata": {
        "id": "heyHZx9p4BTV",
        "colab_type": "code",
        "colab": {}
      },
      "source": [
        "#defining the model...\n",
        "model=tf.keras.Sequential([\n",
        "    tf.keras.layers.Flatten(input_shape=(32,32,3)),\n",
        "    tf.keras.layers.Dense(128,activation='relu'),\n",
        "    tf.keras.layers.Dense(128,activation='relu'),\n",
        "    tf.keras.layers.Dense(10,activation='softmax')\n",
        "])"
      ],
      "execution_count": 0,
      "outputs": []
    },
    {
      "cell_type": "code",
      "metadata": {
        "id": "TsMiKhmJ7fUN",
        "colab_type": "code",
        "colab": {}
      },
      "source": [
        "#compiling the model...\n",
        "model.compile(optimizer='adam',loss='sparse_categorical_crossentropy',metrics=['accuracy'])"
      ],
      "execution_count": 0,
      "outputs": []
    },
    {
      "cell_type": "code",
      "metadata": {
        "id": "K7zVse0K8mOG",
        "colab_type": "code",
        "colab": {}
      },
      "source": [
        "#training data to the model...\n",
        "model.fit(training_images,training_labels,epochs=35)"
      ],
      "execution_count": 0,
      "outputs": []
    },
    {
      "cell_type": "code",
      "metadata": {
        "id": "KhIWrf4-89pF",
        "colab_type": "code",
        "colab": {}
      },
      "source": [
        "#evaluating the model for testing data..\n",
        "test_loss,test_acc=model.evaluate(testing_images,testing_labels)"
      ],
      "execution_count": 0,
      "outputs": []
    },
    {
      "cell_type": "code",
      "metadata": {
        "id": "iO6RCodFLZ5o",
        "colab_type": "code",
        "colab": {}
      },
      "source": [
        "print(\"Test accuracy:\",test_acc)"
      ],
      "execution_count": 0,
      "outputs": []
    },
    {
      "cell_type": "code",
      "metadata": {
        "id": "rTLDTwEDLiqw",
        "colab_type": "code",
        "colab": {}
      },
      "source": [
        "#predicting the data...\n",
        "predictions=model.predict(testing_images)"
      ],
      "execution_count": 0,
      "outputs": []
    },
    {
      "cell_type": "code",
      "metadata": {
        "id": "5DVGm3H4L2t-",
        "colab_type": "code",
        "colab": {}
      },
      "source": [
        "#printing data predicted for 2nd index..\n",
        "print(names[np.argmax(predictions[2])])\n"
      ],
      "execution_count": 0,
      "outputs": []
    },
    {
      "cell_type": "code",
      "metadata": {
        "id": "qjCQwLeUMGCV",
        "colab_type": "code",
        "colab": {}
      },
      "source": [
        "#actual data at index 2...\n",
        "print(names[testing_labels[2][0]])"
      ],
      "execution_count": 0,
      "outputs": []
    },
    {
      "cell_type": "code",
      "metadata": {
        "id": "B1szUrMXMRe7",
        "colab_type": "code",
        "colab": {}
      },
      "source": [
        "#predicted data is same as actual data.."
      ],
      "execution_count": 0,
      "outputs": []
    },
    {
      "cell_type": "code",
      "metadata": {
        "id": "eSlyXigTP1Mi",
        "colab_type": "code",
        "colab": {}
      },
      "source": [
        "#Completed ANN model on dataset CIFAR-10"
      ],
      "execution_count": 0,
      "outputs": []
    }
  ]
}